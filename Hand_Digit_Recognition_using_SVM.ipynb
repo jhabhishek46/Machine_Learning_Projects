{
 "cells": [
  {
   "cell_type": "code",
   "execution_count": 1,
   "id": "ba07aea9",
   "metadata": {},
   "outputs": [],
   "source": [
    "import numpy as np\n",
    "import pandas as pd\n",
    "import matplotlib.pyplot as plt\n",
    "import seaborn as sns"
   ]
  },
  {
   "cell_type": "code",
   "execution_count": 9,
   "id": "87de23cb",
   "metadata": {},
   "outputs": [],
   "source": [
    "#import dataset from sklearn \n",
    "from sklearn.datasets import load_digits\n"
   ]
  },
  {
   "cell_type": "code",
   "execution_count": 12,
   "id": "805419ba",
   "metadata": {},
   "outputs": [],
   "source": [
    "df=load_digits()\n",
    "#df"
   ]
  },
  {
   "cell_type": "code",
   "execution_count": 15,
   "id": "9d5b2a5b",
   "metadata": {},
   "outputs": [
    {
     "name": "stdout",
     "output_type": "stream",
     "text": [
      "[[ 0.  0.  5. ...  0.  0.  0.]\n",
      " [ 0.  0.  0. ... 10.  0.  0.]\n",
      " [ 0.  0.  0. ... 16.  9.  0.]\n",
      " ...\n",
      " [ 0.  0.  1. ...  6.  0.  0.]\n",
      " [ 0.  0.  2. ... 12.  0.  0.]\n",
      " [ 0.  0. 10. ... 12.  1.  0.]]\n",
      "(1797, 64)\n"
     ]
    }
   ],
   "source": [
    "print(df.data)\n",
    "print(df.data.shape)"
   ]
  },
  {
   "cell_type": "code",
   "execution_count": 17,
   "id": "ef07c887",
   "metadata": {},
   "outputs": [
    {
     "name": "stdout",
     "output_type": "stream",
     "text": [
      "[0 1 2 ... 8 9 8]\n",
      "(1797,)\n"
     ]
    }
   ],
   "source": [
    "print(df.target)\n",
    "print(df.target.shape)"
   ]
  },
  {
   "cell_type": "code",
   "execution_count": 19,
   "id": "2e123110",
   "metadata": {},
   "outputs": [
    {
     "data": {
      "text/plain": [
       "(1797, 8, 8)"
      ]
     },
     "execution_count": 19,
     "metadata": {},
     "output_type": "execute_result"
    }
   ],
   "source": [
    "df.images.shape"
   ]
  },
  {
   "cell_type": "code",
   "execution_count": 21,
   "id": "d64c1d61",
   "metadata": {},
   "outputs": [
    {
     "data": {
      "text/plain": [
       "1797"
      ]
     },
     "execution_count": 21,
     "metadata": {},
     "output_type": "execute_result"
    }
   ],
   "source": [
    "dataimagelength=len(df.images)\n",
    "dataimagelength"
   ]
  },
  {
   "cell_type": "markdown",
   "id": "eb6adb64",
   "metadata": {},
   "source": [
    "VISUALIZE THE DATA\n"
   ]
  },
  {
   "cell_type": "code",
   "execution_count": 23,
   "id": "54b79546",
   "metadata": {},
   "outputs": [
    {
     "data": {
      "text/plain": [
       "<Figure size 432x288 with 0 Axes>"
      ]
     },
     "metadata": {},
     "output_type": "display_data"
    },
    {
     "data": {
      "image/png": "[encoded data removed]",
      "text/plain": [
       "<Figure size 288x288 with 1 Axes>"
      ]
     },
     "metadata": {
      "needs_background": "light"
     },
     "output_type": "display_data"
    },
    {
     "data": {
      "text/plain": [
       "array([[ 0.,  0.,  0.,  0., 12.,  2.,  0.,  0.],\n",
       "       [ 0.,  0.,  0.,  6., 14.,  1.,  0.,  0.],\n",
       "       [ 0.,  0.,  4., 16.,  7.,  8.,  0.,  0.],\n",
       "       [ 0.,  0., 13.,  9.,  0., 16.,  6.,  0.],\n",
       "       [ 0.,  6., 16., 10., 11., 16.,  0.,  0.],\n",
       "       [ 0.,  0.,  5., 10., 13., 16.,  0.,  0.],\n",
       "       [ 0.,  0.,  0.,  0.,  6., 16.,  0.,  0.],\n",
       "       [ 0.,  0.,  0.,  0., 12.,  8.,  0.,  0.]])"
      ]
     },
     "execution_count": 23,
     "metadata": {},
     "output_type": "execute_result"
    }
   ],
   "source": [
    "n=24 #n is the number of sample out of 1797\n",
    "plt.gray()\n",
    "plt.matshow(df.images[n])\n",
    "plt.show()\n",
    "\n",
    "df.images[n]"
   ]
  },
  {
   "cell_type": "markdown",
   "id": "25cc648a",
   "metadata": {},
   "source": [
    "## SEGREGATING DATA"
   ]
  },
  {
   "cell_type": "code",
   "execution_count": 25,
   "id": "d01814dd",
   "metadata": {},
   "outputs": [
    {
     "name": "stdout",
     "output_type": "stream",
     "text": [
      "[[ 0.  0.  5. ...  0.  0.  0.]\n",
      " [ 0.  0.  0. ... 10.  0.  0.]\n",
      " [ 0.  0.  0. ... 16.  9.  0.]\n",
      " ...\n",
      " [ 0.  0.  1. ...  6.  0.  0.]\n",
      " [ 0.  0.  2. ... 12.  0.  0.]\n",
      " [ 0.  0. 10. ... 12.  1.  0.]]\n",
      "(1797, 64)\n"
     ]
    }
   ],
   "source": [
    "X=df.images.reshape((dataimagelength,-1))\n",
    "print(X)\n",
    "print(X.shape)"
   ]
  },
  {
   "cell_type": "code",
   "execution_count": 28,
   "id": "3f595e23",
   "metadata": {},
   "outputs": [
    {
     "name": "stdout",
     "output_type": "stream",
     "text": [
      "[0 1 2 ... 8 9 8]\n",
      "(1797,)\n"
     ]
    }
   ],
   "source": [
    "y=df.target\n",
    "print(y)\n",
    "print(y.shape)"
   ]
  },
  {
   "cell_type": "markdown",
   "id": "5f1cb4a7",
   "metadata": {},
   "source": [
    "## SPLITTING DATA INTO TRAIN VALIDATION AND TEST"
   ]
  },
  {
   "cell_type": "code",
   "execution_count": 29,
   "id": "9266ebb3",
   "metadata": {},
   "outputs": [],
   "source": [
    "from sklearn.model_selection import train_test_split"
   ]
  },
  {
   "cell_type": "code",
   "execution_count": 31,
   "id": "c3b6d68b",
   "metadata": {},
   "outputs": [],
   "source": [
    "X_train, X_valtest, y_train, y_valtest = train_test_split( X, y, test_size=0.3, random_state=101)"
   ]
  },
  {
   "cell_type": "code",
   "execution_count": 32,
   "id": "1df3f458",
   "metadata": {},
   "outputs": [],
   "source": [
    "X_val, X_test, y_val, y_test = train_test_split( X_valtest, y_valtest, test_size=0.5, random_state=101)"
   ]
  },
  {
   "cell_type": "code",
   "execution_count": 34,
   "id": "9d5dbc02",
   "metadata": {},
   "outputs": [
    {
     "name": "stdout",
     "output_type": "stream",
     "text": [
      "(1257, 64)\n",
      "(270, 64)\n",
      "(270, 64)\n",
      "(1257,)\n",
      "(270,)\n",
      "(270,)\n"
     ]
    }
   ],
   "source": [
    "print(X_train.shape)\n",
    "print(X_val.shape)\n",
    "print(X_test.shape)\n",
    "print(y_train.shape)\n",
    "print(y_val.shape)\n",
    "print(y_test.shape)"
   ]
  },
  {
   "cell_type": "code",
   "execution_count": 36,
   "id": "69a32a30",
   "metadata": {},
   "outputs": [],
   "source": [
    "from sklearn.svm import SVC"
   ]
  },
  {
   "cell_type": "code",
   "execution_count": 52,
   "id": "03424edf",
   "metadata": {},
   "outputs": [],
   "source": [
    "linear_model=SVC(kernel='linear')\n",
    "rbf_model=SVC(kernel='rbf')\n",
    "model3=SVC(kernel='rbf',gamma=0.01)\n",
    "model4=SVC(kernel='rbf',gamma=0.001)\n",
    "model5=SVC(kernel='rbf',gamma=0.001,C=2)"
   ]
  },
  {
   "cell_type": "code",
   "execution_count": 53,
   "id": "c2c0c992",
   "metadata": {},
   "outputs": [
    {
     "data": {
      "text/plain": [
       "SVC(C=2, gamma=0.001)"
      ]
     },
     "execution_count": 53,
     "metadata": {},
     "output_type": "execute_result"
    }
   ],
   "source": [
    "linear_model.fit(X_train,y_train)\n",
    "rbf_model.fit(X_train,y_train)\n",
    "model3.fit(X_train,y_train)\n",
    "model4.fit(X_train,y_train)\n",
    "model5.fit(X_train,y_train)"
   ]
  },
  {
   "cell_type": "code",
   "execution_count": 54,
   "id": "6b1d0834",
   "metadata": {},
   "outputs": [],
   "source": [
    "pred_linear_model=linear_model.predict(X_val)\n",
    "pred_rbf_model=rbf_model.predict(X_val)\n",
    "pred_model3=model3.predict(X_val)\n",
    "pred_model4=model4.predict(X_val)\n",
    "pred_model5=model5.predict(X_val)"
   ]
  },
  {
   "cell_type": "code",
   "execution_count": 55,
   "id": "17afd00e",
   "metadata": {},
   "outputs": [],
   "source": [
    "from sklearn.metrics import accuracy_score"
   ]
  },
  {
   "cell_type": "code",
   "execution_count": 56,
   "id": "3e839fde",
   "metadata": {},
   "outputs": [
    {
     "name": "stdout",
     "output_type": "stream",
     "text": [
      "The accuracy of Linear_model is : 98.14814814814815\n",
      "The accuracy of rbf_model is : 99.25925925925925\n",
      "The accuracy of model3 is : 77.77777777777779\n",
      "The accuracy of model4 is : 99.25925925925925\n",
      "The accuracy of model5 is : 99.62962962962963\n"
     ]
    }
   ],
   "source": [
    "print(f\"The accuracy of Linear_model is : {accuracy_score(pred_linear_model,y_val)*100}\")\n",
    "print(f\"The accuracy of rbf_model is : {accuracy_score(pred_rbf_model,y_val)*100}\")\n",
    "print(f\"The accuracy of model3 is : {accuracy_score(pred_model3,y_val)*100}\")\n",
    "print(f\"The accuracy of model4 is : {accuracy_score(pred_model4,y_val)*100}\")\n",
    "print(f\"The accuracy of model5 is : {accuracy_score(pred_model5,y_val)*100}\")"
   ]
  },
  {
   "cell_type": "markdown",
   "id": "60ed25f1",
   "metadata": {},
   "source": [
    "Since Model5 is giving the best accuracy , so now we are going to set model 5 as our most optimized and final model and will check its accuracy on the unseen test data."
   ]
  },
  {
   "cell_type": "code",
   "execution_count": 59,
   "id": "b0f24b8e",
   "metadata": {},
   "outputs": [
    {
     "name": "stdout",
     "output_type": "stream",
     "text": [
      "The accuracy of FINAL MODEL is :98.51851851851852%\n"
     ]
    }
   ],
   "source": [
    "final_model=SVC(kernel='rbf',gamma=0.001,C=2)\n",
    "final_model.fit(X_train,y_train)\n",
    "pred=final_model.predict(X_test)\n",
    "print(f\"The accuracy of FINAL MODEL is :{accuracy_score(pred,y_test)*100}%\")"
   ]
  },
  {
   "cell_type": "markdown",
   "id": "f9b3e225",
   "metadata": {},
   "source": [
    "AFTER TRAINING OUR DATA ON TRAIN DATA , OPTIMIZING & TUNING PARAMETERS BASED ON VALIDATION DATA AND THEN FINALLY PREDICTING  ON TEST DATA AND OBTAINING  ACCURACY SCORE.\n",
    "\n",
    "HENCE THE ACCURACY WHICH IS TO BE REPORTED TO THE CLIENT IS 98.51%."
   ]
  },
  {
   "cell_type": "code",
   "execution_count": null,
   "id": "b236c4d4",
   "metadata": {},
   "outputs": [],
   "source": []
  }
 ],
 "metadata": {
  "kernelspec": {
   "display_name": "Python 3 (ipykernel)",
   "language": "python",
   "name": "python3"
  },
  "language_info": {
   "codemirror_mode": {
    "name": "ipython",
    "version": 3
   },
   "file_extension": ".py",
   "mimetype": "text/x-python",
   "name": "python",
   "nbconvert_exporter": "python",
   "pygments_lexer": "ipython3",
   "version": "3.9.7"
  }
 },
 "nbformat": 4,
 "nbformat_minor": 5
}
