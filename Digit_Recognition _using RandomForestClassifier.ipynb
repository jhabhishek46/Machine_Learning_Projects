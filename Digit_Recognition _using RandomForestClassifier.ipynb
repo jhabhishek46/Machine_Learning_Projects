{
 "cells": [
  {
   "cell_type": "code",
   "execution_count": 1,
   "id": "82dbcb1b",
   "metadata": {},
   "outputs": [],
   "source": [
    "import numpy as np\n",
    "import pandas as pd\n",
    "import matplotlib.pyplot as plt\n",
    "import seaborn as sns"
   ]
  },
  {
   "cell_type": "code",
   "execution_count": 2,
   "id": "60369b32",
   "metadata": {},
   "outputs": [],
   "source": [
    "df=pd.read_csv('digit.csv')"
   ]
  },
  {
   "cell_type": "code",
   "execution_count": 3,
   "id": "1afd7e18",
   "metadata": {},
   "outputs": [
    {
     "data": {
      "text/html": [
       "<div>\n",
       "<style scoped>\n",
       "    .dataframe tbody tr th:only-of-type {\n",
       "        vertical-align: middle;\n",
       "    }\n",
       "\n",
       "    .dataframe tbody tr th {\n",
       "        vertical-align: top;\n",
       "    }\n",
       "\n",
       "    .dataframe thead th {\n",
       "        text-align: right;\n",
       "    }\n",
       "</style>\n",
       "<table border=\"1\" class=\"dataframe\">\n",
       "  <thead>\n",
       "    <tr style=\"text-align: right;\">\n",
       "      <th></th>\n",
       "      <th>label</th>\n",
       "      <th>pixel0</th>\n",
       "      <th>pixel1</th>\n",
       "      <th>pixel2</th>\n",
       "      <th>pixel3</th>\n",
       "      <th>pixel4</th>\n",
       "      <th>pixel5</th>\n",
       "      <th>pixel6</th>\n",
       "      <th>pixel7</th>\n",
       "      <th>pixel8</th>\n",
       "      <th>...</th>\n",
       "      <th>pixel774</th>\n",
       "      <th>pixel775</th>\n",
       "      <th>pixel776</th>\n",
       "      <th>pixel777</th>\n",
       "      <th>pixel778</th>\n",
       "      <th>pixel779</th>\n",
       "      <th>pixel780</th>\n",
       "      <th>pixel781</th>\n",
       "      <th>pixel782</th>\n",
       "      <th>pixel783</th>\n",
       "    </tr>\n",
       "  </thead>\n",
       "  <tbody>\n",
       "    <tr>\n",
       "      <th>0</th>\n",
       "      <td>1</td>\n",
       "      <td>0</td>\n",
       "      <td>0</td>\n",
       "      <td>0</td>\n",
       "      <td>0</td>\n",
       "      <td>0</td>\n",
       "      <td>0</td>\n",
       "      <td>0</td>\n",
       "      <td>0</td>\n",
       "      <td>0</td>\n",
       "      <td>...</td>\n",
       "      <td>0</td>\n",
       "      <td>0</td>\n",
       "      <td>0</td>\n",
       "      <td>0</td>\n",
       "      <td>0</td>\n",
       "      <td>0</td>\n",
       "      <td>0</td>\n",
       "      <td>0</td>\n",
       "      <td>0</td>\n",
       "      <td>0</td>\n",
       "    </tr>\n",
       "    <tr>\n",
       "      <th>1</th>\n",
       "      <td>0</td>\n",
       "      <td>0</td>\n",
       "      <td>0</td>\n",
       "      <td>0</td>\n",
       "      <td>0</td>\n",
       "      <td>0</td>\n",
       "      <td>0</td>\n",
       "      <td>0</td>\n",
       "      <td>0</td>\n",
       "      <td>0</td>\n",
       "      <td>...</td>\n",
       "      <td>0</td>\n",
       "      <td>0</td>\n",
       "      <td>0</td>\n",
       "      <td>0</td>\n",
       "      <td>0</td>\n",
       "      <td>0</td>\n",
       "      <td>0</td>\n",
       "      <td>0</td>\n",
       "      <td>0</td>\n",
       "      <td>0</td>\n",
       "    </tr>\n",
       "    <tr>\n",
       "      <th>2</th>\n",
       "      <td>1</td>\n",
       "      <td>0</td>\n",
       "      <td>0</td>\n",
       "      <td>0</td>\n",
       "      <td>0</td>\n",
       "      <td>0</td>\n",
       "      <td>0</td>\n",
       "      <td>0</td>\n",
       "      <td>0</td>\n",
       "      <td>0</td>\n",
       "      <td>...</td>\n",
       "      <td>0</td>\n",
       "      <td>0</td>\n",
       "      <td>0</td>\n",
       "      <td>0</td>\n",
       "      <td>0</td>\n",
       "      <td>0</td>\n",
       "      <td>0</td>\n",
       "      <td>0</td>\n",
       "      <td>0</td>\n",
       "      <td>0</td>\n",
       "    </tr>\n",
       "    <tr>\n",
       "      <th>3</th>\n",
       "      <td>4</td>\n",
       "      <td>0</td>\n",
       "      <td>0</td>\n",
       "      <td>0</td>\n",
       "      <td>0</td>\n",
       "      <td>0</td>\n",
       "      <td>0</td>\n",
       "      <td>0</td>\n",
       "      <td>0</td>\n",
       "      <td>0</td>\n",
       "      <td>...</td>\n",
       "      <td>0</td>\n",
       "      <td>0</td>\n",
       "      <td>0</td>\n",
       "      <td>0</td>\n",
       "      <td>0</td>\n",
       "      <td>0</td>\n",
       "      <td>0</td>\n",
       "      <td>0</td>\n",
       "      <td>0</td>\n",
       "      <td>0</td>\n",
       "    </tr>\n",
       "    <tr>\n",
       "      <th>4</th>\n",
       "      <td>0</td>\n",
       "      <td>0</td>\n",
       "      <td>0</td>\n",
       "      <td>0</td>\n",
       "      <td>0</td>\n",
       "      <td>0</td>\n",
       "      <td>0</td>\n",
       "      <td>0</td>\n",
       "      <td>0</td>\n",
       "      <td>0</td>\n",
       "      <td>...</td>\n",
       "      <td>0</td>\n",
       "      <td>0</td>\n",
       "      <td>0</td>\n",
       "      <td>0</td>\n",
       "      <td>0</td>\n",
       "      <td>0</td>\n",
       "      <td>0</td>\n",
       "      <td>0</td>\n",
       "      <td>0</td>\n",
       "      <td>0</td>\n",
       "    </tr>\n",
       "  </tbody>\n",
       "</table>\n",
       "<p>5 rows × 785 columns</p>\n",
       "</div>"
      ],
      "text/plain": [
       "   label  pixel0  pixel1  pixel2  pixel3  pixel4  pixel5  pixel6  pixel7  \\\n",
       "0      1       0       0       0       0       0       0       0       0   \n",
       "1      0       0       0       0       0       0       0       0       0   \n",
       "2      1       0       0       0       0       0       0       0       0   \n",
       "3      4       0       0       0       0       0       0       0       0   \n",
       "4      0       0       0       0       0       0       0       0       0   \n",
       "\n",
       "   pixel8  ...  pixel774  pixel775  pixel776  pixel777  pixel778  pixel779  \\\n",
       "0       0  ...         0         0         0         0         0         0   \n",
       "1       0  ...         0         0         0         0         0         0   \n",
       "2       0  ...         0         0         0         0         0         0   \n",
       "3       0  ...         0         0         0         0         0         0   \n",
       "4       0  ...         0         0         0         0         0         0   \n",
       "\n",
       "   pixel780  pixel781  pixel782  pixel783  \n",
       "0         0         0         0         0  \n",
       "1         0         0         0         0  \n",
       "2         0         0         0         0  \n",
       "3         0         0         0         0  \n",
       "4         0         0         0         0  \n",
       "\n",
       "[5 rows x 785 columns]"
      ]
     },
     "execution_count": 3,
     "metadata": {},
     "output_type": "execute_result"
    }
   ],
   "source": [
    "df.head()"
   ]
  },
  {
   "cell_type": "code",
   "execution_count": 5,
   "id": "fc0abe1d",
   "metadata": {},
   "outputs": [
    {
     "data": {
      "text/plain": [
       "(42000, 785)"
      ]
     },
     "execution_count": 5,
     "metadata": {},
     "output_type": "execute_result"
    }
   ],
   "source": [
    "df.shape"
   ]
  },
  {
   "cell_type": "code",
   "execution_count": 9,
   "id": "06d225dd",
   "metadata": {},
   "outputs": [
    {
     "data": {
      "text/plain": [
       "Index([], dtype='object')"
      ]
     },
     "execution_count": 9,
     "metadata": {},
     "output_type": "execute_result"
    }
   ],
   "source": [
    "df.columns[df.isna().any()]"
   ]
  },
  {
   "cell_type": "markdown",
   "id": "6cffc2ff",
   "metadata": {},
   "source": [
    "### Hence there is no null value in our dataset.Thus our dataset is ready for fitting and training.\n",
    "\n",
    "We do not need to do feature scaling  as the data itself is quite scaled and all variables have the same range of values"
   ]
  },
  {
   "cell_type": "code",
   "execution_count": 12,
   "id": "6d83ad16",
   "metadata": {},
   "outputs": [
    {
     "name": "stdout",
     "output_type": "stream",
     "text": [
      "   pixel0  pixel1  pixel2  pixel3  pixel4  pixel5  pixel6  pixel7  pixel8  \\\n",
      "0       0       0       0       0       0       0       0       0       0   \n",
      "1       0       0       0       0       0       0       0       0       0   \n",
      "2       0       0       0       0       0       0       0       0       0   \n",
      "3       0       0       0       0       0       0       0       0       0   \n",
      "4       0       0       0       0       0       0       0       0       0   \n",
      "\n",
      "   pixel9  ...  pixel774  pixel775  pixel776  pixel777  pixel778  pixel779  \\\n",
      "0       0  ...         0         0         0         0         0         0   \n",
      "1       0  ...         0         0         0         0         0         0   \n",
      "2       0  ...         0         0         0         0         0         0   \n",
      "3       0  ...         0         0         0         0         0         0   \n",
      "4       0  ...         0         0         0         0         0         0   \n",
      "\n",
      "   pixel780  pixel781  pixel782  pixel783  \n",
      "0         0         0         0         0  \n",
      "1         0         0         0         0  \n",
      "2         0         0         0         0  \n",
      "3         0         0         0         0  \n",
      "4         0         0         0         0  \n",
      "\n",
      "[5 rows x 784 columns]\n",
      "(42000, 784)\n"
     ]
    }
   ],
   "source": [
    "X=df.iloc[:,1:]\n",
    "print(X.head())\n",
    "print(X.shape)"
   ]
  },
  {
   "cell_type": "code",
   "execution_count": 13,
   "id": "0d92b833",
   "metadata": {},
   "outputs": [
    {
     "name": "stdout",
     "output_type": "stream",
     "text": [
      "0    1\n",
      "1    0\n",
      "2    1\n",
      "3    4\n",
      "4    0\n",
      "Name: label, dtype: int64\n",
      "(42000,)\n"
     ]
    }
   ],
   "source": [
    "y=df.iloc[:,0]\n",
    "print(y.head())\n",
    "print(y.shape)"
   ]
  },
  {
   "cell_type": "markdown",
   "id": "6d37d813",
   "metadata": {},
   "source": [
    "### SPLITTING DATASET INTO TRAIN VALIDATION & TEST SET"
   ]
  },
  {
   "cell_type": "code",
   "execution_count": 16,
   "id": "6fc5d92f",
   "metadata": {},
   "outputs": [],
   "source": [
    "from sklearn.model_selection import train_test_split\n",
    "X_train, X_valid, y_train, y_valid = train_test_split(X, y, test_size = 0.3, random_state = 101)\n",
    "X_val, X_test, y_val, y_test = train_test_split(X_valid, y_valid, test_size = 0.5, random_state = 101)"
   ]
  },
  {
   "cell_type": "code",
   "execution_count": 17,
   "id": "e04254fc",
   "metadata": {},
   "outputs": [
    {
     "name": "stdout",
     "output_type": "stream",
     "text": [
      "(29400, 784)\n",
      "(6300, 784)\n",
      "(6300, 784)\n"
     ]
    }
   ],
   "source": [
    "print(X_train.shape)\n",
    "print(X_val.shape)\n",
    "print(X_test.shape)"
   ]
  },
  {
   "cell_type": "code",
   "execution_count": 18,
   "id": "4b2574fc",
   "metadata": {},
   "outputs": [
    {
     "name": "stdout",
     "output_type": "stream",
     "text": [
      "(29400,)\n",
      "(6300,)\n",
      "(6300,)\n"
     ]
    }
   ],
   "source": [
    "print(y_train.shape)\n",
    "print(y_val.shape)\n",
    "print(y_test.shape)"
   ]
  },
  {
   "cell_type": "markdown",
   "id": "347c7d6a",
   "metadata": {},
   "source": [
    "## Importing & Training the MODEL based on Random Forest Classifier"
   ]
  },
  {
   "cell_type": "code",
   "execution_count": 19,
   "id": "a658321a",
   "metadata": {},
   "outputs": [],
   "source": [
    "from sklearn.ensemble import RandomForestClassifier\n",
    "from sklearn.metrics import accuracy_score,classification_report,confusion_matrix\n",
    "from sklearn.tree import plot_tree"
   ]
  },
  {
   "cell_type": "code",
   "execution_count": 25,
   "id": "621e0120",
   "metadata": {},
   "outputs": [],
   "source": [
    "def report_model(model):\n",
    "    model.fit(X_train,y_train)\n",
    "    pred=model.predict(X_val)\n",
    "    accuracy=accuracy_score(pred,y_val)\n",
    "    print('The accuracy of the',str(model),'is : ',accuracy*100,'%')\n",
    "    #print(classification_report);"
   ]
  },
  {
   "cell_type": "code",
   "execution_count": 29,
   "id": "30e4bc18",
   "metadata": {},
   "outputs": [
    {
     "name": "stdout",
     "output_type": "stream",
     "text": [
      "The accuracy of the RandomForestClassifier(random_state=101) is :  96.23809523809524 %\n"
     ]
    }
   ],
   "source": [
    "default_model=RandomForestClassifier(random_state=101)\n",
    "report_model(default_model)"
   ]
  },
  {
   "cell_type": "code",
   "execution_count": 30,
   "id": "dd380f20",
   "metadata": {},
   "outputs": [
    {
     "name": "stdout",
     "output_type": "stream",
     "text": [
      "The accuracy of the RandomForestClassifier(n_estimators=150, random_state=101) is :  96.38095238095238 %\n",
      "The accuracy of the RandomForestClassifier(n_estimators=50, random_state=101) is :  96.04761904761905 %\n",
      "The accuracy of the RandomForestClassifier(n_estimators=200, random_state=101) is :  96.53968253968253 %\n"
     ]
    }
   ],
   "source": [
    "model1=RandomForestClassifier(n_estimators=150,random_state=101)\n",
    "report_model(model1)\n",
    "model2=RandomForestClassifier(n_estimators=50,random_state=101)\n",
    "report_model(model2)\n",
    "model3=RandomForestClassifier(n_estimators=200,random_state=101)\n",
    "report_model(model3)"
   ]
  },
  {
   "cell_type": "code",
   "execution_count": 32,
   "id": "5e54c5ed",
   "metadata": {},
   "outputs": [
    {
     "name": "stdout",
     "output_type": "stream",
     "text": [
      "The accuracy of the RandomForestClassifier(criterion='entropy', max_features='sqrt',\n",
      "                       n_estimators=150, random_state=101) is :  96.2063492063492 %\n",
      "The accuracy of the RandomForestClassifier(criterion='entropy', max_features='log2',\n",
      "                       n_estimators=150, random_state=101) is :  96.3015873015873 %\n"
     ]
    }
   ],
   "source": [
    "model4=RandomForestClassifier(n_estimators=150,criterion='entropy',random_state=101,max_features='sqrt')\n",
    "report_model(model4)\n",
    "model5=RandomForestClassifier(n_estimators=150,criterion='entropy',random_state=101,max_features='log2')\n",
    "report_model(model5)"
   ]
  },
  {
   "cell_type": "code",
   "execution_count": 34,
   "id": "953010bf",
   "metadata": {},
   "outputs": [
    {
     "name": "stdout",
     "output_type": "stream",
     "text": [
      "The accuracy of the RandomForestClassifier(criterion='entropy', max_features='sqrt',\n",
      "                       n_estimators=200, random_state=101) is :  96.2063492063492 %\n",
      "The accuracy of the RandomForestClassifier(criterion='entropy', max_features='log2',\n",
      "                       n_estimators=200, random_state=101) is :  96.23809523809524 %\n"
     ]
    }
   ],
   "source": [
    "model6=RandomForestClassifier(n_estimators=200,criterion='entropy',random_state=101,max_features='sqrt')\n",
    "report_model(model6)\n",
    "model7=RandomForestClassifier(n_estimators=200,criterion='entropy',random_state=101,max_features='log2')\n",
    "report_model(model7)"
   ]
  },
  {
   "cell_type": "code",
   "execution_count": 35,
   "id": "72e8acaf",
   "metadata": {},
   "outputs": [
    {
     "name": "stdout",
     "output_type": "stream",
     "text": [
      "The accuracy of the RandomForestClassifier(max_features='sqrt', n_estimators=200, random_state=101) is :  96.53968253968253 %\n",
      "The accuracy of the RandomForestClassifier(max_features='log2', n_estimators=200, random_state=101) is :  96.41269841269842 %\n"
     ]
    }
   ],
   "source": [
    "model8=RandomForestClassifier(n_estimators=200,criterion='gini',random_state=101,max_features='sqrt')\n",
    "report_model(model8)\n",
    "model9=RandomForestClassifier(n_estimators=200,criterion='gini',random_state=101,max_features='log2')\n",
    "report_model(model9)"
   ]
  },
  {
   "cell_type": "markdown",
   "id": "66c914fe",
   "metadata": {},
   "source": [
    "### Thus by tuning the hyperparameters we have obtained the model with best accuracy is model8 where n_estimators=200,criterion='gini',random_state=101,max_features='sqrt' "
   ]
  },
  {
   "cell_type": "markdown",
   "id": "7d3a8f58",
   "metadata": {},
   "source": [
    "#### Now we are going to evaluate our best model on an unseen dataset which is the X_test and y_test and the accuracy obtained here will bw the final accuracy of our Randon Forest Model."
   ]
  },
  {
   "cell_type": "code",
   "execution_count": 38,
   "id": "79a1a486",
   "metadata": {},
   "outputs": [
    {
     "name": "stdout",
     "output_type": "stream",
     "text": [
      "The accuracy of our RandomForestClassifier(max_features='sqrt', n_estimators=200, random_state=101) is :  96.47619047619047 %\n"
     ]
    }
   ],
   "source": [
    "final_model=RandomForestClassifier(n_estimators=200,criterion='gini',random_state=101,max_features='sqrt')\n",
    "final_model.fit(X_train,y_train)\n",
    "prediction=final_model.predict(X_test)\n",
    "best_accuracy=accuracy_score(prediction,y_test)\n",
    "print('The accuracy of our',final_model,'is : ',best_accuracy*100,'%')"
   ]
  },
  {
   "cell_type": "code",
   "execution_count": 40,
   "id": "782d0ec8",
   "metadata": {},
   "outputs": [
    {
     "name": "stdout",
     "output_type": "stream",
     "text": [
      "              precision    recall  f1-score   support\n",
      "\n",
      "           0       0.99      0.98      0.98       634\n",
      "           1       0.98      0.98      0.98       744\n",
      "           2       0.96      0.96      0.96       604\n",
      "           3       0.93      0.96      0.94       646\n",
      "           4       0.97      0.96      0.96       601\n",
      "           5       0.96      0.97      0.96       554\n",
      "           6       0.98      0.97      0.97       610\n",
      "           7       0.96      0.97      0.97       667\n",
      "           8       0.96      0.96      0.96       605\n",
      "           9       0.95      0.95      0.95       635\n",
      "\n",
      "    accuracy                           0.96      6300\n",
      "   macro avg       0.96      0.96      0.96      6300\n",
      "weighted avg       0.96      0.96      0.96      6300\n",
      "\n"
     ]
    }
   ],
   "source": [
    "print(classification_report(prediction,y_test))"
   ]
  },
  {
   "cell_type": "markdown",
   "id": "e8c69271",
   "metadata": {},
   "source": [
    "## The accuracy of our Random Forest Classifier Model is :  96.47 %"
   ]
  },
  {
   "cell_type": "code",
   "execution_count": null,
   "id": "33cbd3f1",
   "metadata": {},
   "outputs": [],
   "source": []
  }
 ],
 "metadata": {
  "kernelspec": {
   "display_name": "Python 3 (ipykernel)",
   "language": "python",
   "name": "python3"
  },
  "language_info": {
   "codemirror_mode": {
    "name": "ipython",
    "version": 3
   },
   "file_extension": ".py",
   "mimetype": "text/x-python",
   "name": "python",
   "nbconvert_exporter": "python",
   "pygments_lexer": "ipython3",
   "version": "3.9.7"
  }
 },
 "nbformat": 4,
 "nbformat_minor": 5
}
